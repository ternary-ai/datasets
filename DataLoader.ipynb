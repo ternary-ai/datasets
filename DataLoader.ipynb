{
 "cells": [
  {
   "cell_type": "code",
   "execution_count": 10,
   "id": "a6267a38",
   "metadata": {},
   "outputs": [],
   "source": [
    "import pandas as pd\n",
    "import json\n",
    "import ast\n",
    "import random"
   ]
  },
  {
   "cell_type": "code",
   "execution_count": 11,
   "id": "e5691de9",
   "metadata": {},
   "outputs": [],
   "source": [
    "# One example for the dataset is a Question-Answering based on Reddit Posts\n",
    "filename=\"qa_reddit_data_prompts_23.csv\"\n",
    "\n",
    "# Using Pandas you load the CSV file into a DataFrame\n",
    "df = pd.read_csv(filename)\n",
    "\n",
    "# Then you transform the dict in the column into a dataframe\n",
    "df['qa'] = df['qa'].apply(ast.literal_eval)\n",
    "\n",
    "# And conver the dataframe to a list\n",
    "array_of_dicts = df['qa'].apply(lambda x: x).tolist()\n",
    "\n"
   ]
  },
  {
   "cell_type": "code",
   "execution_count": 13,
   "id": "c07e1ffb",
   "metadata": {},
   "outputs": [
    {
     "name": "stdout",
     "output_type": "stream",
     "text": [
      " Q: What stock tickers are mentioned in this post with this title ? \"If MSM has taught us anything, it's don't play with options!\" and this body \"They're promoting it. \\n\\nDon't touch it\\n\\nHold my brothers, and book that shit. \\n\\nNo cell, no sell.\\n\\nFuck you, pay me! \\n\\nHappy Xmas and New years, apes!\"\n"
     ]
    }
   ],
   "source": [
    "# The only reason to make this random so its more flexible when \n",
    "# eyeballing the dataset\n",
    "random_index = random.randint(0, len(array_of_dicts) - 1)\n",
    "print(f\" Q: {array_of_dicts[random_index]['question']}\")"
   ]
  },
  {
   "cell_type": "code",
   "execution_count": 14,
   "id": "654bc7b7",
   "metadata": {},
   "outputs": [
    {
     "name": "stdout",
     "output_type": "stream",
     "text": [
      " A: \n",
      "Are follow up questions needed here: No.\n",
      "The final answer is: There are no tickers mentioned in this post\n",
      "\n"
     ]
    }
   ],
   "source": [
    "print(f\" A: {array_of_dicts[random_index]['answer']}\")"
   ]
  },
  {
   "cell_type": "code",
   "execution_count": null,
   "id": "7359625c",
   "metadata": {},
   "outputs": [],
   "source": []
  }
 ],
 "metadata": {
  "kernelspec": {
   "display_name": "Python 3 (ipykernel)",
   "language": "python",
   "name": "python3"
  },
  "language_info": {
   "codemirror_mode": {
    "name": "ipython",
    "version": 3
   },
   "file_extension": ".py",
   "mimetype": "text/x-python",
   "name": "python",
   "nbconvert_exporter": "python",
   "pygments_lexer": "ipython3",
   "version": "3.11.6"
  }
 },
 "nbformat": 4,
 "nbformat_minor": 5
}
